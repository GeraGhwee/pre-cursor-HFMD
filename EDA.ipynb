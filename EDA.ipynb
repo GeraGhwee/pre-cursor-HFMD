{
 "cells": [
  {
   "cell_type": "code",
   "execution_count": 2,
   "metadata": {},
   "outputs": [],
   "source": [
    "import pandas as pd\n",
    "import numpy as np"
   ]
  },
  {
   "cell_type": "code",
   "execution_count": 3,
   "metadata": {},
   "outputs": [],
   "source": [
    "df = pd.read_csv('./weekly-infectious-disease-bulletin-cases.csv')"
   ]
  },
  {
   "cell_type": "code",
   "execution_count": 4,
   "metadata": {},
   "outputs": [
    {
     "name": "stdout",
     "output_type": "stream",
     "text": [
      "<class 'pandas.core.frame.DataFrame'>\n",
      "RangeIndex: 10100 entries, 0 to 10099\n",
      "Data columns (total 3 columns):\n",
      "epi_week        10100 non-null object\n",
      "disease         10100 non-null object\n",
      "no._of_cases    10100 non-null int64\n",
      "dtypes: int64(1), object(2)\n",
      "memory usage: 236.8+ KB\n"
     ]
    }
   ],
   "source": [
    "df.info()"
   ]
  },
  {
   "cell_type": "code",
   "execution_count": 5,
   "metadata": {},
   "outputs": [
    {
     "data": {
      "text/plain": [
       "array(['Acute Viral hepatitis B', 'Acute Viral hepatitis C',\n",
       "       'Avian Influenza', 'Campylobacterenterosis', 'Chikungunya Fever',\n",
       "       'Cholera', 'Dengue Fever', 'Dengue Haemorrhagic Fever',\n",
       "       'Diphtheria', 'Encephalitis', 'Haemophilus influenzae type b',\n",
       "       'Hand, Foot Mouth Disease', 'Legionellosis', 'Malaria', 'Measles',\n",
       "       'Melioidosis', 'Meningococcal Infection', 'Mumps',\n",
       "       'Nipah virus infection', 'Paratyphoid', 'Pertussis', 'Plague',\n",
       "       'Pneumococcal Disease (invasive)', 'Poliomyelitis', 'Rubella',\n",
       "       'Salmonellosis(non-enteric fevers)', 'SARS', 'Typhoid',\n",
       "       'Viral Hepatitis A', 'Viral Hepatitis E', 'Yellow Fever',\n",
       "       'Zika Virus Infection', 'Acute Viral Hepatitis A',\n",
       "       'Acute Viral Hepatitis E', 'Chikungunya', 'HFMD', 'Nipah',\n",
       "       'Campylobacter enteritis', 'Leptospirosis', 'Zika',\n",
       "       'Ebola Virus Disease', 'Japanese Encephalitis', 'Tetanus',\n",
       "       'Botulism', 'Murine Typhus'], dtype=object)"
      ]
     },
     "execution_count": 5,
     "metadata": {},
     "output_type": "execute_result"
    }
   ],
   "source": [
    "df['disease'].unique()"
   ]
  },
  {
   "cell_type": "code",
   "execution_count": 6,
   "metadata": {},
   "outputs": [],
   "source": [
    "df = pd.read_csv('./top-4-conditions-of-polyclinic-attendances.csv')"
   ]
  },
  {
   "cell_type": "code",
   "execution_count": 7,
   "metadata": {},
   "outputs": [
    {
     "data": {
      "text/html": [
       "<div>\n",
       "<style scoped>\n",
       "    .dataframe tbody tr th:only-of-type {\n",
       "        vertical-align: middle;\n",
       "    }\n",
       "\n",
       "    .dataframe tbody tr th {\n",
       "        vertical-align: top;\n",
       "    }\n",
       "\n",
       "    .dataframe thead th {\n",
       "        text-align: right;\n",
       "    }\n",
       "</style>\n",
       "<table border=\"1\" class=\"dataframe\">\n",
       "  <thead>\n",
       "    <tr style=\"text-align: right;\">\n",
       "      <th></th>\n",
       "      <th>year</th>\n",
       "      <th>condition</th>\n",
       "      <th>percentage_diagnoses</th>\n",
       "    </tr>\n",
       "  </thead>\n",
       "  <tbody>\n",
       "    <tr>\n",
       "      <th>0</th>\n",
       "      <td>2006</td>\n",
       "      <td>Hyperlipidemia</td>\n",
       "      <td>13.8</td>\n",
       "    </tr>\n",
       "    <tr>\n",
       "      <th>1</th>\n",
       "      <td>2006</td>\n",
       "      <td>Hypertensive Disease</td>\n",
       "      <td>17.2</td>\n",
       "    </tr>\n",
       "    <tr>\n",
       "      <th>2</th>\n",
       "      <td>2006</td>\n",
       "      <td>Acute Upper Respiratory Tract Infection includ...</td>\n",
       "      <td>11.9</td>\n",
       "    </tr>\n",
       "    <tr>\n",
       "      <th>3</th>\n",
       "      <td>2006</td>\n",
       "      <td>Diabetes Mellitus</td>\n",
       "      <td>8.6</td>\n",
       "    </tr>\n",
       "    <tr>\n",
       "      <th>4</th>\n",
       "      <td>2007</td>\n",
       "      <td>Hyperlipidemia</td>\n",
       "      <td>14.9</td>\n",
       "    </tr>\n",
       "  </tbody>\n",
       "</table>\n",
       "</div>"
      ],
      "text/plain": [
       "   year                                          condition  \\\n",
       "0  2006                                     Hyperlipidemia   \n",
       "1  2006                               Hypertensive Disease   \n",
       "2  2006  Acute Upper Respiratory Tract Infection includ...   \n",
       "3  2006                                  Diabetes Mellitus   \n",
       "4  2007                                     Hyperlipidemia   \n",
       "\n",
       "   percentage_diagnoses  \n",
       "0                  13.8  \n",
       "1                  17.2  \n",
       "2                  11.9  \n",
       "3                   8.6  \n",
       "4                  14.9  "
      ]
     },
     "execution_count": 7,
     "metadata": {},
     "output_type": "execute_result"
    }
   ],
   "source": [
    "df.head()"
   ]
  },
  {
   "cell_type": "code",
   "execution_count": 8,
   "metadata": {},
   "outputs": [],
   "source": [
    "df_piv = df.pivot(columns='condition',index='year',values='percentage_diagnoses')"
   ]
  },
  {
   "cell_type": "code",
   "execution_count": 9,
   "metadata": {},
   "outputs": [
    {
     "data": {
      "text/html": [
       "<div>\n",
       "<style scoped>\n",
       "    .dataframe tbody tr th:only-of-type {\n",
       "        vertical-align: middle;\n",
       "    }\n",
       "\n",
       "    .dataframe tbody tr th {\n",
       "        vertical-align: top;\n",
       "    }\n",
       "\n",
       "    .dataframe thead th {\n",
       "        text-align: right;\n",
       "    }\n",
       "</style>\n",
       "<table border=\"1\" class=\"dataframe\">\n",
       "  <thead>\n",
       "    <tr style=\"text-align: right;\">\n",
       "      <th>condition</th>\n",
       "      <th>Acute Upper Respiratory Tract Infection including Influenza</th>\n",
       "      <th>Diabetes Mellitus</th>\n",
       "      <th>Hyperlipidemia</th>\n",
       "      <th>Hypertensive Disease</th>\n",
       "    </tr>\n",
       "    <tr>\n",
       "      <th>year</th>\n",
       "      <th></th>\n",
       "      <th></th>\n",
       "      <th></th>\n",
       "      <th></th>\n",
       "    </tr>\n",
       "  </thead>\n",
       "  <tbody>\n",
       "    <tr>\n",
       "      <th>2006</th>\n",
       "      <td>11.9</td>\n",
       "      <td>8.6</td>\n",
       "      <td>13.8</td>\n",
       "      <td>17.2</td>\n",
       "    </tr>\n",
       "    <tr>\n",
       "      <th>2007</th>\n",
       "      <td>11.6</td>\n",
       "      <td>9.0</td>\n",
       "      <td>14.9</td>\n",
       "      <td>17.3</td>\n",
       "    </tr>\n",
       "    <tr>\n",
       "      <th>2008</th>\n",
       "      <td>10.8</td>\n",
       "      <td>9.1</td>\n",
       "      <td>15.5</td>\n",
       "      <td>17.2</td>\n",
       "    </tr>\n",
       "    <tr>\n",
       "      <th>2009</th>\n",
       "      <td>11.1</td>\n",
       "      <td>9.1</td>\n",
       "      <td>15.8</td>\n",
       "      <td>16.6</td>\n",
       "    </tr>\n",
       "    <tr>\n",
       "      <th>2010</th>\n",
       "      <td>11.2</td>\n",
       "      <td>8.9</td>\n",
       "      <td>15.6</td>\n",
       "      <td>15.9</td>\n",
       "    </tr>\n",
       "  </tbody>\n",
       "</table>\n",
       "</div>"
      ],
      "text/plain": [
       "condition  Acute Upper Respiratory Tract Infection including Influenza  \\\n",
       "year                                                                     \n",
       "2006                                                    11.9             \n",
       "2007                                                    11.6             \n",
       "2008                                                    10.8             \n",
       "2009                                                    11.1             \n",
       "2010                                                    11.2             \n",
       "\n",
       "condition  Diabetes Mellitus  Hyperlipidemia  Hypertensive Disease  \n",
       "year                                                                \n",
       "2006                     8.6            13.8                  17.2  \n",
       "2007                     9.0            14.9                  17.3  \n",
       "2008                     9.1            15.5                  17.2  \n",
       "2009                     9.1            15.8                  16.6  \n",
       "2010                     8.9            15.6                  15.9  "
      ]
     },
     "execution_count": 9,
     "metadata": {},
     "output_type": "execute_result"
    }
   ],
   "source": [
    "df_piv.head()"
   ]
  },
  {
   "cell_type": "code",
   "execution_count": 10,
   "metadata": {},
   "outputs": [],
   "source": [
    "import matplotlib.pyplot as plt\n",
    "import seaborn as sns\n",
    "\n",
    "% matplotlib inline"
   ]
  },
  {
   "cell_type": "code",
   "execution_count": 11,
   "metadata": {},
   "outputs": [
    {
     "data": {
      "text/plain": [
       "Int64Index([2006, 2007, 2008, 2009, 2010, 2011, 2012, 2013, 2014, 2015], dtype='int64', name=u'year')"
      ]
     },
     "execution_count": 11,
     "metadata": {},
     "output_type": "execute_result"
    }
   ],
   "source": [
    "df_piv.index"
   ]
  },
  {
   "cell_type": "code",
   "execution_count": 12,
   "metadata": {},
   "outputs": [
    {
     "data": {
      "text/plain": [
       "year\n",
       "2006    17.2\n",
       "2007    17.3\n",
       "2008    17.2\n",
       "2009    16.6\n",
       "2010    15.9\n",
       "2011    15.7\n",
       "2012    15.8\n",
       "2013    15.9\n",
       "2014    15.6\n",
       "2015    15.7\n",
       "Name: Hypertensive Disease, dtype: float64"
      ]
     },
     "execution_count": 12,
     "metadata": {},
     "output_type": "execute_result"
    }
   ],
   "source": [
    "df_piv['Hypertensive Disease']"
   ]
  },
  {
   "cell_type": "code",
   "execution_count": 33,
   "metadata": {},
   "outputs": [
    {
     "data": {
      "image/png": "[encoded data removed]",
      "text/plain": [
       "<matplotlib.figure.Figure at 0xd748400>"
      ]
     },
     "metadata": {},
     "output_type": "display_data"
    }
   ],
   "source": [
    "plt.figure(figsize = (12,8))\n",
    "\n",
    "plt.plot(df_piv.index,df_piv['Hypertensive Disease'],linewidth = 3,marker = '''o''')\n",
    "plt.plot(df_piv.index,df_piv['Diabetes Mellitus'],linewidth = 3,marker = '''o''')\n",
    "plt.plot(df_piv.index,df_piv['Hyperlipidemia'],linewidth = 3,marker = '''o''')\n",
    "plt.plot(df_piv.index,df_piv['Acute Upper Respiratory Tract Infection including Influenza'],\\\n",
    "         label='Acute Upper Respiratory Tract Infection',linewidth = 3,marker = '''o''')\n",
    "\n",
    "plt.title('Occurrences of each disease for each year')\n",
    "plt.legend(loc = 0,bbox_to_anchor = (1.4,0.7))\n",
    "\n",
    "plt.show()"
   ]
  },
  {
   "cell_type": "code",
   "execution_count": null,
   "metadata": {},
   "outputs": [],
   "source": []
  }
 ],
 "metadata": {
  "kernelspec": {
   "display_name": "Python 2",
   "language": "python",
   "name": "python2"
  },
  "language_info": {
   "codemirror_mode": {
    "name": "ipython",
    "version": 2
   },
   "file_extension": ".py",
   "mimetype": "text/x-python",
   "name": "python",
   "nbconvert_exporter": "python",
   "pygments_lexer": "ipython2",
   "version": "2.7.14"
  },
  "toc": {
   "base_numbering": 1,
   "nav_menu": {},
   "number_sections": true,
   "sideBar": true,
   "skip_h1_title": false,
   "title_cell": "Table of Contents",
   "title_sidebar": "Contents",
   "toc_cell": false,
   "toc_position": {},
   "toc_section_display": true,
   "toc_window_display": false
  },
  "varInspector": {
   "cols": {
    "lenName": 16,
    "lenType": 16,
    "lenVar": 40
   },
   "kernels_config": {
    "python": {
     "delete_cmd_postfix": "",
     "delete_cmd_prefix": "del ",
     "library": "var_list.py",
     "varRefreshCmd": "print(var_dic_list())"
    },
    "r": {
     "delete_cmd_postfix": ") ",
     "delete_cmd_prefix": "rm(",
     "library": "var_list.r",
     "varRefreshCmd": "cat(var_dic_list()) "
    }
   },
   "types_to_exclude": [
    "module",
    "function",
    "builtin_function_or_method",
    "instance",
    "_Feature"
   ],
   "window_display": false
  }
 },
 "nbformat": 4,
 "nbformat_minor": 2
}
